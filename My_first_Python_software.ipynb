{
  "nbformat": 4,
  "nbformat_minor": 0,
  "metadata": {
    "colab": {
      "provenance": [],
      "authorship_tag": "ABX9TyOApaflgfOYHQF8+8nf6Y0M",
      "include_colab_link": true
    },
    "kernelspec": {
      "name": "python3",
      "display_name": "Python 3"
    },
    "language_info": {
      "name": "python"
    }
  },
  "cells": [
    {
      "cell_type": "markdown",
      "metadata": {
        "id": "view-in-github",
        "colab_type": "text"
      },
      "source": [
        "<a href=\"https://colab.research.google.com/github/juanescosit/python/blob/main/My_first_Python_software.ipynb\" target=\"_parent\"><img src=\"https://colab.research.google.com/assets/colab-badge.svg\" alt=\"Open In Colab\"/></a>"
      ]
    },
    {
      "cell_type": "markdown",
      "source": [
        "Primera clase: introducción Python, función print, input, comentarios, concatenado"
      ],
      "metadata": {
        "id": "XZvdNfwK4Q4v"
      }
    },
    {
      "cell_type": "code",
      "execution_count": null,
      "metadata": {
        "colab": {
          "base_uri": "https://localhost:8080/"
        },
        "id": "djPZpkhx3pph",
        "outputId": "e0e4b248-300f-45e0-8574-2a5f6e3ca1fa"
      },
      "outputs": [
        {
          "output_type": "stream",
          "name": "stdout",
          "text": [
            "Bienvenido, es un placer verte en Replit\n",
            "Por favor ingresa tu nombre: Juan\n",
            "Hola Juan!. Soy un bot creado por mi creador, estaré aquí para ayudarte en lo que necesites.\n",
            "<class 'bool'>\n",
            "Nunca pares de aprender\n",
            "Frase: Nunca pares de aprender, Autor: Platzi\n"
          ]
        }
      ],
      "source": [
        "print(\"Bienvenido, es un placer verte en Replit\")\n",
        "\n",
        "name = input(\"Por favor ingresa tu nombre: \")\n",
        "print(\"Hola \" + name +\"!. Soy un bot creado por mi creador, estaré aquí para ayudarte en lo que necesites.\"\n",
        ")\n",
        "\n",
        "#Este es un comentario de una sóla línea\n",
        "'''Este es un comentario de varias líneas y lo bueno es que Python me ayuda a completar mi código generando o completando líneas de código o de texto que posiblemente desee ingresar'''\n",
        "\n",
        "is_true = True\n",
        "is_false = False\n",
        "print(type(is_true))\n",
        "\n",
        "print(\"Nunca\", \"pares\", \"de\", \"aprender\", sep=\" \")\n",
        "\n",
        "frase = \"Nunca pares de aprender\"\n",
        "author = \"Platzi\"\n",
        "print(f\"Frase: {frase}, Autor: {author}\")"
      ]
    },
    {
      "cell_type": "markdown",
      "source": [
        "Segunda clase: datos string STR, concatenado, impresión en varias líneas"
      ],
      "metadata": {
        "id": "zmaGQ-jz4UdV"
      }
    },
    {
      "cell_type": "code",
      "source": [
        "name=\"Juan\"\n",
        "\n",
        "print(name + \" voy a imprimir tu nombre en varias líneas, así:\\n\" + name[0] +\n",
        "  \"\\n\" + name[1] + \"\\n\" + name[2] + \"\\n\" + name[3])\n",
        "\n",
        "print(\"También lo puedo hacer al revés, así:\\n\" + name[-1] + \"\\n\" + name[-2] +\n",
        "  \"\\n\" + name[-3] + \"\\n\" + name[-4])\n",
        "\n",
        "print(\n",
        "f'{name} voy a imprimir tu nombre en varias líneas, así:\\n{name[0]}\\n{name[1]}\\n{name[2]}\\n{name[3]}'\n",
        ")\n",
        "\n",
        "print(\n",
        "\"Dentro de mis habilidades tengo la capacidad de multiplicar las cadenas de texto, mira:\\n\"\n",
        "+ (name + \" \") * 3)\n",
        "\n",
        "print('También puedo contar las letras que tiene tu nombre, así:\\n' + name +\n",
        "  ' tiene ' + str(len(name)))"
      ],
      "metadata": {
        "colab": {
          "base_uri": "https://localhost:8080/"
        },
        "id": "EQRA9tjf4V_s",
        "outputId": "64c792d9-9871-41e5-f47f-be616d59d0b3"
      },
      "execution_count": null,
      "outputs": [
        {
          "output_type": "stream",
          "name": "stdout",
          "text": [
            "Juan voy a imprimir tu nombre en varias líneas, así:\n",
            "J\n",
            "u\n",
            "a\n",
            "n\n",
            "También lo puedo hacer al revés, así:\n",
            "n\n",
            "a\n",
            "u\n",
            "J\n",
            "Juan voy a imprimir tu nombre en varias líneas, así:\n",
            "J\n",
            "u\n",
            "a\n",
            "n\n",
            "Dentro de mis habilidades tengo la capacidad de multiplicar las cadenas de texto, mira:\n",
            "Juan Juan Juan \n",
            "También puedo contar las letras que tiene tu nombre, así:\n",
            "Juan tiene 4\n"
          ]
        }
      ]
    },
    {
      "cell_type": "markdown",
      "source": [
        "Tercera clase: operadores numéricos, datos numéricos INT y FLOAT"
      ],
      "metadata": {
        "id": "yOQxCfub4uNd"
      }
    },
    {
      "cell_type": "code",
      "source": [
        "#Operadores numéricos\n",
        "\n",
        "x = 10\n",
        "y = 3.1416\n",
        "z = 1.2E6\n",
        "a = 1.2E-6\n",
        "print(type(x))\n",
        "print(type(y))\n",
        "print(z)\n",
        "print(a)\n",
        "print(x + x)\n",
        "print(y + x)\n",
        "\n",
        "a=10\n",
        "b=3\n",
        "\n",
        "print(\"Suma= \", a+b)\n",
        "print(\"Resta= \", a-b)\n",
        "print(\"Multiplicación= \", a*b)\n",
        "print(\"Potenciación= \", a**b)\n",
        "print(\"División= \", a/b)\n",
        "print(\"Entero división= \", a//b)\n",
        "print(\"Residuo= \", a%b)\n",
        "# El operador módulo me muestra el residuo de la división\n",
        "\n",
        "a+=2\n",
        "# Este atajo me permite sumar sin asignar todas las variables, textualmente sería a=a+2\n",
        "\n",
        "print(a)\n",
        "\n",
        "operation=(2+3)*(4**2)/8+1\n",
        "print(operation)\n",
        "\n",
        "print(a>b)\n",
        "print(a <= b)\n",
        "print(a == b)\n",
        "print(a != b)\n",
        "\n",
        "edad=int(input(\"Cuál es tu edad?: \"))\n",
        "# Puedo cambiar el tipo de dato ingresado a un entero con la función int(), o a decimal con la función float(); ya que originalmente el dato ingresado es un string\n",
        "\n",
        "print(type(edad))"
      ],
      "metadata": {
        "id": "UJYPeP_z4cW2"
      },
      "execution_count": null,
      "outputs": []
    },
    {
      "cell_type": "markdown",
      "source": [
        "Cuarta clase"
      ],
      "metadata": {
        "id": "YrHinAha4wfm"
      }
    },
    {
      "cell_type": "code",
      "source": [
        "to_do=[\"Ir al hotel\",\n",
        "      \"Hacher checkin\",\n",
        "      \"visitar un amigo\",\n",
        "      \"Regresar al hotel\"]\n",
        "print(to_do)\n",
        "numeros=[1,2,3,4,\"cinco\"]\n",
        "print(numeros)\n",
        "\n",
        "print(type(numeros))\n",
        "\n",
        "mix=[\"uno\",2,3,True,3.1416,[1,2,3]]\n",
        "print(mix)\n",
        "\n",
        "print(len(mix))\n",
        "# len() me permite saber la cantidad de elementos que tiene una lista\n",
        "\n",
        "print(\"Primer elemento: \", mix[0])\n",
        "print(\"Segundo elemento: \", mix[1])\n",
        "print(\"Último elemento: \", mix[-1])\n",
        "\n",
        "string=\"Hola Juanes\"\n",
        "print(\"Primer elemento: \", string[0])\n",
        "print(\"Segundo elemento: \", string[1])\n",
        "print(\"Último elemento: \", string[-1])\n",
        "\n",
        "print(mix[0:2])\n",
        "# Para la posición siguiente de la lista, se debe sumar 1 ya que Python resta 1\n",
        "print(mix[0:3])\n",
        "print(mix[:2])\n",
        "print(mix[:])\n",
        "print(mix[:-2])\n",
        "\n",
        "mix.append(False)\n",
        "print(mix)\n",
        "\n",
        "mix.append([\"a\",\"b\",\"c\"])\n",
        "print(mix)\n",
        "\n",
        "mix.insert(0,[\"z\",\"x\"])\n",
        "print(mix)\n",
        "\n",
        "print(mix.index(False))\n",
        "\n",
        "numbers=[1,2,3,40,555,69.2,7,8,9,10]\n",
        "print(numbers)\n",
        "print(\"Número mayor: \",max(numbers))\n",
        "print(\"Número menor: \",min(numbers))\n",
        "\n",
        "del numbers[-2]\n",
        "print(numbers)\n",
        "\n",
        "del numbers[:1]\n",
        "print(numbers)\n",
        "# Para eliminar toda la lista antepongo del y luego la variable"
      ],
      "metadata": {
        "id": "HClKTjdb4xi3"
      },
      "execution_count": null,
      "outputs": []
    },
    {
      "cell_type": "markdown",
      "source": [
        "Quinta clase"
      ],
      "metadata": {
        "id": "68CO5wYG41Xm"
      }
    },
    {
      "cell_type": "code",
      "source": [
        "a=[1,2,3,40,555,69.2,7,8,9,10]\n",
        "b=a\n",
        "print(a)\n",
        "print(b)\n",
        "\n",
        "del a[0]\n",
        "print(a)\n",
        "print(b)\n",
        "\n",
        "print(id(a))\n",
        "print(id(b))\n",
        "\n",
        "c=a[:]\n",
        "\n",
        "print(id(c))\n",
        "\n",
        "a.append(6)\n",
        "print(a)\n",
        "print(b)\n",
        "print(c)\n",
        "\n",
        "# También puedo sustraer los elementos de una lista o un string haciendo indexing[] or slice(). Requieren el siguiente formato [inicio:fin:paso)\n",
        "\n",
        "d=a[0:2]\n",
        "print(d)\n",
        "\n",
        "e=a[:3]\n",
        "f=a[4:]\n",
        "g=a[1:8:2]\n",
        "h=a[::2]\n",
        "i=a[::-1]\n",
        "\n",
        "print(e)\n",
        "print(f)\n",
        "print(g)\n",
        "print(h)\n",
        "print(i)\n",
        "\n",
        "web1 = \"http://google.com\"\n",
        "web2 = \"http://wikipedia.com\"\n",
        "\n",
        "z = slice(7,-4)\n",
        "\n",
        "print(web1[z])\n",
        "print(web2[z])"
      ],
      "metadata": {
        "id": "x1fAlDCU42i2"
      },
      "execution_count": null,
      "outputs": []
    },
    {
      "cell_type": "markdown",
      "source": [
        "Sexta clase"
      ],
      "metadata": {
        "id": "11NAg_kq46fj"
      }
    },
    {
      "cell_type": "code",
      "source": [
        "matrix = [[1,2,3],\n",
        "          [4,5,6],\n",
        "          [7,8,9]]\n",
        "print(matrix[0])\n",
        "\n",
        "numbers=1,2,3,4,5,6,7,8,9,10\n",
        "print(numbers)\n",
        "print(type(numbers))\n",
        "print(numbers[0])\n",
        "\n",
        "# Tablero de ajedrez\n",
        "\n",
        "chess_board = [\n",
        "  ['r', 'n', 'b', 'q', 'k', 'b', 'n', 'r'],\n",
        "  ['p', 'p', 'p', 'p', 'p', 'p', 'p', 'p'],\n",
        "  [0, 0, 0, 0, 0, 0, 0, 0],\n",
        "  [0, 0, 0, 0, 0, 0, 0, 0],\n",
        "  [0, 0, 0, 0, 0, 0, 0, 0],\n",
        "  [0, 0, 0, 0, 0, 0, 0, 0],\n",
        "  ['P', 'P', 'P', 'P', 'P', 'P', 'P', 'P'],\n",
        "  ['R', 'N', 'B', 'Q', 'K', 'B', 'N', 'R']\n",
        "]\n",
        "\n",
        "print(chess_board)"
      ],
      "metadata": {
        "colab": {
          "base_uri": "https://localhost:8080/"
        },
        "id": "I2YOb2Og4-51",
        "outputId": "c6795f62-64f1-4ec3-8851-1ed3108d15de"
      },
      "execution_count": null,
      "outputs": [
        {
          "output_type": "stream",
          "name": "stdout",
          "text": [
            "[1, 2, 3]\n",
            "(1, 2, 3, 4, 5, 6, 7, 8, 9, 10)\n",
            "<class 'tuple'>\n",
            "1\n",
            "[['r', 'n', 'b', 'q', 'k', 'b', 'n', 'r'], ['p', 'p', 'p', 'p', 'p', 'p', 'p', 'p'], [0, 0, 0, 0, 0, 0, 0, 0], [0, 0, 0, 0, 0, 0, 0, 0], [0, 0, 0, 0, 0, 0, 0, 0], [0, 0, 0, 0, 0, 0, 0, 0], ['P', 'P', 'P', 'P', 'P', 'P', 'P', 'P'], ['R', 'N', 'B', 'Q', 'K', 'B', 'N', 'R']]\n"
          ]
        }
      ]
    },
    {
      "cell_type": "markdown",
      "source": [
        "Séptima clase"
      ],
      "metadata": {
        "id": "heKa6AOc5Koe"
      }
    },
    {
      "cell_type": "code",
      "source": [
        "numbers = {1:\"uno\",2:\"dos\",3:\"tres\",4:\"cuatro\",5:\"cinco\",6:\"seis\"}\n",
        "print(numbers[1])\n",
        "print(numbers[5])\n",
        "information={\"Nombre\":\"Juan Esteban\",\n",
        "             \"Apellido\":\"Cardona Ospina\",\n",
        "             \"Edad\":34,\"Altura\":1.64}\n",
        "print(information)\n",
        "del information[\"Edad\"] # Elimina la clave \"Edad\" del diccionario\n",
        "print(information[\"Altura\"])\n",
        "print(information)\n",
        "\n",
        "claves = information.keys()\n",
        "print(claves)\n",
        "print(type(claves))\n",
        "\n",
        "# Agregar un nuevo par clave-valor\n",
        "information[\"Ciudad\"] = \"Manizales\"\n",
        "information[\"Edad\"] = 34\n",
        "print(information)\n",
        "\n",
        "# Actualizar un valor existente\n",
        "information[\"Edad\"] = 31\n",
        "\n",
        "print(information)\n",
        "\n",
        "valores=information.values()\n",
        "print(valores)\n",
        "\n",
        "pairs = information.items()\n",
        "print(pairs)\n",
        "\n",
        "#Vamos a hacer un diccionario con varios diccionarios\n",
        "contacts = {\"Juan Esteban\":{\"Apellido\":\"Cardona Ospina\",\n",
        "             \"Edad\":34,\"Altura\":1.64},\"Maria Fernanda\":{\"Apellido\":\"Castro Cardona\",\n",
        "             \"Edad\":29,\"Altura\":1.63}}\n",
        "print(contacts)\n",
        "print(contacts[\"Maria Fernanda\"])"
      ],
      "metadata": {
        "id": "FaKTuwDO5Men",
        "colab": {
          "base_uri": "https://localhost:8080/"
        },
        "outputId": "1c13bb8e-a7ea-44b9-8319-9dfc90693212"
      },
      "execution_count": null,
      "outputs": [
        {
          "output_type": "stream",
          "name": "stdout",
          "text": [
            "uno\n",
            "cinco\n",
            "{'Nombre': 'Juan Esteban', 'Apellido': 'Cardona Ospina', 'Edad': 34, 'Altura': 1.64}\n",
            "1.64\n",
            "{'Nombre': 'Juan Esteban', 'Apellido': 'Cardona Ospina', 'Altura': 1.64}\n",
            "dict_keys(['Nombre', 'Apellido', 'Altura'])\n",
            "<class 'dict_keys'>\n",
            "{'Nombre': 'Juan Esteban', 'Apellido': 'Cardona Ospina', 'Altura': 1.64, 'Ciudad': 'Manizales', 'Edad': 34}\n",
            "{'Nombre': 'Juan Esteban', 'Apellido': 'Cardona Ospina', 'Altura': 1.64, 'Ciudad': 'Manizales', 'Edad': 31}\n",
            "dict_values(['Juan Esteban', 'Cardona Ospina', 1.64, 'Manizales', 31])\n",
            "dict_items([('Nombre', 'Juan Esteban'), ('Apellido', 'Cardona Ospina'), ('Altura', 1.64), ('Ciudad', 'Manizales'), ('Edad', 31)])\n",
            "{'Juan Esteban': {'Apellido': 'Cardona Ospina', 'Edad': 34, 'Altura': 1.64}, 'Maria Fernanda': {'Apellido': 'Castro Cardona', 'Edad': 29, 'Altura': 1.63}}\n",
            "{'Apellido': 'Castro Cardona', 'Edad': 29, 'Altura': 1.63}\n"
          ]
        }
      ]
    },
    {
      "cell_type": "markdown",
      "source": [
        "Octava clase"
      ],
      "metadata": {
        "id": "3T3cxbRWon9Z"
      }
    },
    {
      "cell_type": "code",
      "source": [
        "x = 5\n",
        "if x > 5:\n",
        "  print(\"x es mayor que 5\")\n",
        "elif x == 5:\n",
        "  print(\"x es igual que 5\")\n",
        "else:\n",
        "  print(\"x es menor que 5\")\n",
        "print(\"afuera\")\n",
        "\n",
        "x = 4\n",
        "y = 25\n",
        "if x > 5 and y > 15:\n",
        "  print(\"X es mayor que 5 y Y es mayor que 15\")\n",
        "\n",
        "if x > 5 or y > 15:\n",
        "  print(\"X es mayor que 5 o Y es mayor que 15\")\n",
        "\n",
        "if not x > 5:\n",
        "  print(\"X no es mayor que 5\")"
      ],
      "metadata": {
        "colab": {
          "base_uri": "https://localhost:8080/"
        },
        "id": "DLNMg7SuorBU",
        "outputId": "2e2f0d9b-8f00-40fc-e415-59206b978af2"
      },
      "execution_count": null,
      "outputs": [
        {
          "output_type": "stream",
          "name": "stdout",
          "text": [
            "x es igual que 5\n",
            "afuera\n",
            "X es mayor que 5 o Y es mayor que 15\n",
            "X no es mayor que 5\n"
          ]
        }
      ]
    },
    {
      "cell_type": "markdown",
      "source": [
        "Juego de piedra papel o tijera"
      ],
      "metadata": {
        "id": "MkEIq2c8068I"
      }
    },
    {
      "cell_type": "code",
      "source": [
        "Jugador1 = input(\"Jugador 1 seleccione una opción del juego piedra,papel o tijera: \")\n",
        "if Jugador1 == \"piedra\":\n",
        "  print(\"Jugador 1 eligió piedra\")\n",
        "elif Jugador1 == \"papel\":\n",
        "  print(\"Jugador 1 eligió papel\")\n",
        "elif Jugador1 == \"tijera\":\n",
        "  print(\"Jugador 1 eligió tijera\")\n",
        "\n",
        "Jugador2 = input(\"Jugador 2 seleccione una opción del juego piedra,papel o tijera: \")\n",
        "if Jugador2 == \"piedra\":\n",
        "  print(\"Jugador 2 eligió piedra\")\n",
        "elif Jugador2 == \"papel\":\n",
        "  print(\"Jugador 2 eligió papel\")\n",
        "elif Jugador2 == \"tijera\":\n",
        "  print(\"Jugador 2 eligió tijera\")\n",
        "\n",
        "if Jugador1 == Jugador2:\n",
        "  print(\"Empate\")\n",
        "else:\n",
        "  if Jugador1 == \"piedra\" and Jugador2 == \"tijera\":\n",
        "    print(\"Jugador 1 gana\")\n",
        "  if Jugador1 == \"papel\" and Jugador2 == \"piedra\":\n",
        "    print(\"Jugador 1 gana\")\n",
        "  if Jugador1 == \"tijera\" and Jugador2 == \"papel\":\n",
        "    print(\"Jugador 1 gana\")\n",
        "  else:\n",
        "    print(\"Jugador 2 gana\")"
      ],
      "metadata": {
        "colab": {
          "base_uri": "https://localhost:8080/"
        },
        "id": "VkbL36X922GN",
        "outputId": "9ae7d101-5828-4e13-f508-ff2084d75402"
      },
      "execution_count": null,
      "outputs": [
        {
          "output_type": "stream",
          "name": "stdout",
          "text": [
            "Jugador 1 seleccione una opción del juego piedra,papel o tijera: tijera\n",
            "Jugador 1 eligió tijera\n",
            "Jugador 2 seleccione una opción del juego piedra,papel o tijera: piedra\n",
            "Jugador 2 eligió piedra\n",
            "Jugador 2 gana\n"
          ]
        }
      ]
    },
    {
      "cell_type": "markdown",
      "source": [
        "Novena clase"
      ],
      "metadata": {
        "id": "Z2jl_Wm_FgMx"
      }
    },
    {
      "cell_type": "code",
      "source": [
        "numbers = [1,2,3]\n",
        "for x in numbers:\n",
        "  print(\"Aquí x es igual a\",x)\n",
        "\n",
        "for x in range(5,9):\n",
        "  print(\"Aquí x es igual a\",x)\n",
        "\n",
        "fruits = [\"manzana\",\"pera\",\"naranja\", \"uva\", \"kiwi\"]\n",
        "for fruta in fruits:\n",
        "  print(fruta)\n",
        "  if fruta == \"naranja\":\n",
        "    print(\"naranja encontrada\")\n",
        "\n",
        "x = 0\n",
        "while x < 5:\n",
        "  if x == 3:\n",
        "    break\n",
        "  print(x)\n",
        "  x += 1\n",
        "\n",
        "numbers = [1,2,3]\n",
        "for x in numbers:\n",
        "  if x == 2:\n",
        "    continue\n",
        "  print(\"Aquí x es igual a\",x)"
      ],
      "metadata": {
        "id": "d4zZCwu_FjKC",
        "colab": {
          "base_uri": "https://localhost:8080/"
        },
        "outputId": "dd04b6e2-454c-408d-adae-e8a4bdee7b53"
      },
      "execution_count": null,
      "outputs": [
        {
          "output_type": "stream",
          "name": "stdout",
          "text": [
            "Aquí x es igual a 1\n",
            "Aquí x es igual a 2\n",
            "Aquí x es igual a 3\n",
            "Aquí x es igual a 5\n",
            "Aquí x es igual a 6\n",
            "Aquí x es igual a 7\n",
            "Aquí x es igual a 8\n",
            "manzana\n",
            "pera\n",
            "naranja\n",
            "naranja encontrada\n",
            "uva\n",
            "kiwi\n",
            "0\n",
            "1\n",
            "2\n",
            "Aquí x es igual a 1\n",
            "Aquí x es igual a 3\n"
          ]
        }
      ]
    },
    {
      "cell_type": "markdown",
      "source": [
        "Décima clase: iteradores y generadores"
      ],
      "metadata": {
        "id": "u5RWPALOezWs"
      }
    },
    {
      "cell_type": "code",
      "source": [
        "list = [1,2,3,4]\n",
        "\n",
        "#Iterador de texto\n",
        "iterator = iter(list)\n",
        "print(next(iterator))\n",
        "print(next(iterator))\n",
        "\n",
        "text = \"Hola\"\n",
        "iterator_tex = iter(text)\n",
        "\n",
        "#Iterar en la cadena de texto\n",
        "for char in text:\n",
        "  print(char)\n",
        "\n",
        "#Iterador para números impares\n",
        "iterator_impares = iter(range(1,10,2))\n",
        "for num in iterator_impares:\n",
        "  print(num)\n",
        "\n",
        "#Generadores\n",
        "def my_fuction():\n",
        "  yield \"Juan\"\n",
        "  yield \"Esteban\"\n",
        "\n",
        "for text in my_fuction():\n",
        "  print(text)\n",
        "\n",
        "#Generador de la serie Fibonacci\n",
        "def fibonacci():\n",
        "  a,b = 0,1\n",
        "  while True:\n",
        "    yield a\n",
        "    a,b = b,a+b\n",
        "\n",
        "for num in fibonacci():\n",
        "  if num > 10:\n",
        "    break\n",
        "  print(num)\n",
        "\n",
        "#Generador para números pares\n",
        "def pares():\n",
        "  a = 0\n",
        "  while True:\n",
        "    yield a\n",
        "    a += 2\n",
        "\n",
        "for num in pares():\n",
        "  if num > 10:\n",
        "    break\n",
        "  print(num)\n",
        "\n",
        "def impares():\n",
        "  a = 1\n",
        "  while True:\n",
        "    yield a\n",
        "    a += 2\n",
        "\n",
        "for num in impares():\n",
        "  if num > 11:\n",
        "    break\n",
        "  print(num)\n"
      ],
      "metadata": {
        "colab": {
          "base_uri": "https://localhost:8080/"
        },
        "id": "1FBgtI-Je1hY",
        "outputId": "104dc294-9bc8-43e4-a77d-84de1baa6438"
      },
      "execution_count": null,
      "outputs": [
        {
          "output_type": "stream",
          "name": "stdout",
          "text": [
            "1\n",
            "2\n",
            "H\n",
            "o\n",
            "l\n",
            "a\n",
            "1\n",
            "3\n",
            "5\n",
            "7\n",
            "9\n",
            "Juan\n",
            "Esteban\n",
            "0\n",
            "1\n",
            "1\n",
            "2\n",
            "3\n",
            "5\n",
            "8\n",
            "0\n",
            "2\n",
            "4\n",
            "6\n",
            "8\n",
            "10\n",
            "1\n",
            "3\n",
            "5\n",
            "7\n",
            "9\n",
            "11\n"
          ]
        }
      ]
    },
    {
      "cell_type": "markdown",
      "source": [
        "Décima clase: funciones"
      ],
      "metadata": {
        "id": "wGmwDesxgMw5"
      }
    },
    {
      "cell_type": "code",
      "source": [
        "'''\n",
        "def great(name, last_name=\"Sin apellido\"):\n",
        "  print(\"Hola\", name, last_name)\n",
        "\n",
        "great(\"Juanes\", \"Cardona\")\n",
        "great(\"Mafe\")\n",
        "\n",
        "great(last_name = \"Cardona\", name = \"Juanes\")\n",
        "\n",
        "#Calculadora con condicional\n",
        "operation = input(\"Ingresa la operación que deseas realizar 1. Suma, 2. Resta, 3. Multiplicación, 4. División: \")\n",
        "\n",
        "  num1 = input(\"Ingresa el primer número: \")\n",
        "  num2 = input(\"Ingresa el segundo número: \")\n",
        "\n",
        "  if operation == \"1\":\n",
        "    print(int(num1) + int(num2))\n",
        "  if operation == \"2\":\n",
        "      print(int(num1) - int(num2))\n",
        "  if operation == \"3\":\n",
        "      print(int(num1) * int(num2))\n",
        "  if operation == \"4\":\n",
        "      print(int(num1) / int(num2))\n",
        "  if operation != \"1\" and operation != \"2\" and operation != \"3\" and operation != \"4\":\n",
        "      print(\"Operación no válida\")\n",
        "'''\n",
        "#Calculadora con función\n",
        "def add(a,b):\n",
        "  return a + b\n",
        "\n",
        "def substract(a,b):\n",
        "  return a - b\n",
        "\n",
        "def multiply(a,b):\n",
        "  return a * b\n",
        "\n",
        "def divide(a,b):\n",
        "  return a / b\n",
        "\n",
        "def calculator():\n",
        "  while True:\n",
        "    print(\"Seleccione una operación: \")\n",
        "    print(\"1. Suma\")\n",
        "    print(\"2. Resta\")\n",
        "    print(\"3. Multiplicación\")\n",
        "    print(\"4. División\")\n",
        "    print(\"5. Salir\")\n",
        "\n",
        "    option = int(input(\"Ingrese el número de la operación que desea realizar: \"))\n",
        "    if option == 5:\n",
        "      print(\"Saliendo de la calculadora\")\n",
        "      break\n",
        "\n",
        "    if option in [1,2,3,4]:\n",
        "      num1 = float(input(\"Ingrese el primer número: \"))\n",
        "      num2 = float(input(\"Ingrese el segundo número: \"))\n",
        "\n",
        "      if option == 1:\n",
        "        print(\"La suma es: \", add(num1,num2))\n",
        "        break\n",
        "      elif option == 2:\n",
        "        print(\"La resta es: \", substract(num1,num2))\n",
        "        break\n",
        "      elif option == 3:\n",
        "        print(\"La multiplicación es: \", multiply(num1,num2))\n",
        "        break\n",
        "      elif option == 4:\n",
        "        print(\"La división es: \", divide(num1,num2))\n",
        "        break\n",
        "\n",
        "\n",
        "    elif option not in [1,2,3,4]:\n",
        "        print(\"Operación no válida\")\n",
        "        break\n",
        "\n",
        "calculator()\n"
      ],
      "metadata": {
        "colab": {
          "base_uri": "https://localhost:8080/"
        },
        "id": "eGf_nU1WgPKa",
        "outputId": "78ec9f69-d3b0-4a97-80e3-0fca31e98720"
      },
      "execution_count": null,
      "outputs": [
        {
          "output_type": "stream",
          "name": "stdout",
          "text": [
            "Seleccione una operación: \n",
            "1. Suma\n",
            "2. Resta\n",
            "3. Multiplicación\n",
            "4. División\n",
            "5. Salir\n",
            "Ingrese el número de la operación que desea realizar: 4\n",
            "Ingrese el primer número: 8\n",
            "Ingrese el segundo número: 2\n",
            "La división es:  4.0\n"
          ]
        }
      ]
    },
    {
      "cell_type": "markdown",
      "source": [
        "Onceaba clase: Funciones lambda, map"
      ],
      "metadata": {
        "id": "DABE6JQGsJqO"
      }
    },
    {
      "cell_type": "code",
      "source": [
        "suma = (lambda x,y: x+y)\n",
        "print(suma(2,3)) # Imprime 5\n",
        "\n",
        "multiplicación = lambda x,y: x*y\n",
        "print(multiplicación(2,4))\n",
        "\n",
        "división = lambda x,y: x/y\n",
        "print(división(8,2))\n",
        "\n",
        "#Cuadrado de un número\n",
        "numbers = [1,2,3,4,5,6,7,8,9,10]\n",
        "cuadrado = list(map(lambda x: x**2, numbers))\n",
        "print(cuadrado)\n",
        "\n",
        "#Obtener números pares\n",
        "number = range (1,21)\n",
        "pares = list(filter(lambda x: x%2==0, number))\n",
        "print(pares)"
      ],
      "metadata": {
        "colab": {
          "base_uri": "https://localhost:8080/"
        },
        "id": "aiP4r7JdsQ4o",
        "outputId": "1184934d-6958-499e-c073-a53abd765382"
      },
      "execution_count": null,
      "outputs": [
        {
          "output_type": "stream",
          "name": "stdout",
          "text": [
            "5\n",
            "8\n",
            "4.0\n",
            "[1, 4, 9, 16, 25, 36, 49, 64, 81, 100]\n",
            "[2, 4, 6, 8, 10, 12, 14, 16, 18, 20]\n"
          ]
        }
      ]
    },
    {
      "cell_type": "markdown",
      "source": [
        "Doceaba clase: manejo de errores, try, except y PASS"
      ],
      "metadata": {
        "id": "KVVyzKS86Y8k"
      }
    },
    {
      "cell_type": "code",
      "source": [
        "try:\n",
        "  numerador = int(input(\"Ingrese un número: \"))\n",
        "  divisor = int(input(\"Ingrese un número: \"))\n",
        "  resultado = numerador/divisor\n",
        "  print(\"El resultado es: \", resultado)\n",
        "\n",
        "except ZeroDivisionError:\n",
        "  print(\"No se puede dividir por cero\")\n",
        "\n",
        "except ValueError:\n",
        "  print(\"Error: Ingrese un número válido\")"
      ],
      "metadata": {
        "colab": {
          "base_uri": "https://localhost:8080/"
        },
        "id": "FYXLTyW-JB2C",
        "outputId": "7746d6e8-a627-407b-dd40-9fc5d9f02de0"
      },
      "execution_count": null,
      "outputs": [
        {
          "output_type": "stream",
          "name": "stdout",
          "text": [
            "Ingrese un número: 15\n",
            "Ingrese un número: 5\n",
            "El resultado es:  3.0\n"
          ]
        }
      ]
    },
    {
      "cell_type": "code",
      "source": [
        "try:\n",
        "    # Código que puede generar una excepción\n",
        "    num1 = int(input(\"Ingrese el primer número: \"))\n",
        "    num2 = int(input(\"Ingrese el segundo número: \"))\n",
        "    resultado = num1 / num2\n",
        "    print(\"El resultado de la división es:\", resultado)\n",
        "except ZeroDivisionError:\n",
        "    # Manejo de la excepción ZeroDivisionError\n",
        "    print(\"Error: No se puede dividir por cero.\")\n",
        "finally:\n",
        "    # Código que se ejecuta siempre, haya o no excepción\n",
        "    print(\"Finalizando programa\")\n"
      ],
      "metadata": {
        "colab": {
          "base_uri": "https://localhost:8080/"
        },
        "id": "2wdD26Zu65aL",
        "outputId": "0c866bfc-8b13-4a29-8696-274ecf4e2632"
      },
      "execution_count": null,
      "outputs": [
        {
          "output_type": "stream",
          "name": "stdout",
          "text": [
            "Ingrese el primer número: 15\n",
            "Ingrese el segundo número: 3\n",
            "El resultado de la división es: 5.0\n",
            "Finalizando programa\n"
          ]
        }
      ]
    },
    {
      "cell_type": "code",
      "source": [
        "def print_exception_hierarchy(exception_class, indent=0):\n",
        "    print(\" \" * indent + exception_class.__name__)\n",
        "    for subclass in exception_class.__subclasses__():\n",
        "        print_exception_hierarchy(subclass, indent + 4)\n",
        "\n",
        "print_exception_hierarchy(Exception)"
      ],
      "metadata": {
        "id": "8CJRkEecKp7K"
      },
      "execution_count": null,
      "outputs": []
    },
    {
      "cell_type": "markdown",
      "source": [
        "Clase trece: Break, Continue, Pass"
      ],
      "metadata": {
        "id": "sGUzL2MbCNo_"
      }
    },
    {
      "cell_type": "code",
      "source": [
        "for i in range(5):\n",
        "  if i == 3:\n",
        "    break #Para la creación de números\n",
        "  print(i)\n",
        "\n",
        "for i in range(1,6):\n",
        "  if i == 3:\n",
        "    continue #Se salta el número que cumple con la condición\n",
        "  print(i)\n",
        "\n",
        "for i in range(1,6):\n",
        "  if i <= 3:\n",
        "    pass #No hace nada\n",
        "  else:\n",
        "    print(\"El siguiente valor es mayor a 3\")\n",
        "  print(\"El número es: \",i)\n"
      ],
      "metadata": {
        "colab": {
          "base_uri": "https://localhost:8080/"
        },
        "id": "xf0wAkIKCRhQ",
        "outputId": "a3f41272-52e0-49d0-fcac-4970281c3e24"
      },
      "execution_count": null,
      "outputs": [
        {
          "output_type": "stream",
          "name": "stdout",
          "text": [
            "0\n",
            "1\n",
            "2\n",
            "1\n",
            "2\n",
            "4\n",
            "5\n",
            "El número es:  1\n",
            "El número es:  2\n",
            "El número es:  3\n",
            "El siguiente valor es mayor a 3\n",
            "El número es:  4\n",
            "El siguiente valor es mayor a 3\n",
            "El número es:  5\n"
          ]
        }
      ]
    },
    {
      "cell_type": "markdown",
      "source": [
        "Clase catorce: funciones recursivas"
      ],
      "metadata": {
        "id": "OYKSME0QK5N_"
      }
    },
    {
      "cell_type": "code",
      "source": [
        "def fibonacci(n):\n",
        "  if n == 0:\n",
        "    return 0\n",
        "  elif n == 1:\n",
        "    return 1\n",
        "  else:\n",
        "    return fibonacci(n-1) + fibonacci(n-2)\n",
        "\n",
        "number=3\n",
        "print(fibonacci(number))\n",
        "\n",
        "#Recursividad para la suma de un número con sus números antecesores\n",
        "def suma_recursiva(n):\n",
        "  if n == 0:\n",
        "    return 0\n",
        "  else:\n",
        "    return n + suma_recursiva(n-1)\n",
        "\n",
        "number = 2\n",
        "print(suma_recursiva(number))\n"
      ],
      "metadata": {
        "colab": {
          "base_uri": "https://localhost:8080/"
        },
        "id": "rYRHQUFbK88u",
        "outputId": "b26919e3-661a-41a3-bfe2-f9f9c77e69e6"
      },
      "execution_count": null,
      "outputs": [
        {
          "output_type": "stream",
          "name": "stdout",
          "text": [
            "2\n",
            "3\n"
          ]
        }
      ]
    },
    {
      "cell_type": "markdown",
      "source": [
        "Clase quince: Programación orientada a objetos -POO-"
      ],
      "metadata": {
        "id": "7pTI5lU0XBOI"
      }
    },
    {
      "cell_type": "code",
      "source": [
        "class Person:\n",
        "  def __init__(self, name, age):\n",
        "    self.name = name\n",
        "    self.age = age\n",
        "\n",
        "  def greet(self):\n",
        "    print(f\"Hola mi nombre es {self.name} y tengo {self.age} años.\")\n",
        "\n",
        "person1 = Person(\"Juan\", 34)\n",
        "person2 = Person(\"Maria Fernanda Castro\", 29)\n",
        "\n",
        "person1.greet()\n",
        "person2.greet()\n",
        "\n",
        "class BankAccount:\n",
        "  def __init__(self, holder, balance):\n",
        "    self.holder = holder\n",
        "    self.balance = balance\n",
        "    self.active = True\n",
        "\n",
        "  def deposit(self, amount):\n",
        "    if self.active:\n",
        "      self.balance += amount\n",
        "      print(f\"Depósito de ${amount} realizado. Nuevo saldo: ${self.balance}\")\n",
        "    else:\n",
        "      print(\"No se puede depositar. La cuenta está desactivada\")\n",
        "\n",
        "  def withdraw(self, amount):\n",
        "    if self.active and self.balance >= amount:\n",
        "      self.balance -= amount\n",
        "      print(f\"Retiro de ${amount} realizado. Nuevo saldo: ${self.balance}\")\n",
        "\n",
        "  def deactivate(self):\n",
        "    self.active = False\n",
        "    print(\"Cuenta desactivada\")\n",
        "\n",
        "  def activate(self):\n",
        "    self.active = True\n",
        "    print(\"Cuenta activada\")\n",
        "\n",
        "account1 = BankAccount(\"Juan Esteban Cardona\", 1000)\n",
        "account2 = BankAccount(\"Maria Fernanda Castro\", 500)\n",
        "\n",
        "account1.deposit(500)\n",
        "account1.withdraw(200)\n",
        "account1.deactivate()\n",
        "\n",
        "account1.deposit(500)\n",
        "\n",
        "account2.deposit(500)\n",
        "account2.withdraw(200)\n",
        "account2.deactivate()\n",
        "\n",
        "account2.deposit(500)\n"
      ],
      "metadata": {
        "id": "vLhKyHjwZ155",
        "colab": {
          "base_uri": "https://localhost:8080/"
        },
        "outputId": "1264291b-cc4d-4ebe-ac01-6d5a22236588"
      },
      "execution_count": null,
      "outputs": [
        {
          "output_type": "stream",
          "name": "stdout",
          "text": [
            "Hola mi nombre es Juan y tengo 34 años.\n",
            "Hola mi nombre es Maria Fernanda Castro y tengo 29 años.\n",
            "Depósito de $500 realizado. Nuevo saldo: $1500\n",
            "Retiro de $200 realizado. Nuevo saldo: $1300\n",
            "Cuenta desactivada\n",
            "No se puede depositar. La cuenta está desactivada\n",
            "Depósito de $500 realizado. Nuevo saldo: $1000\n",
            "Retiro de $200 realizado. Nuevo saldo: $800\n",
            "Cuenta desactivada\n",
            "No se puede depositar. La cuenta está desactivada\n"
          ]
        }
      ]
    },
    {
      "cell_type": "markdown",
      "source": [
        "Clase dieciseis: Biblioteca POO"
      ],
      "metadata": {
        "id": "Oadp6231ZzoW"
      }
    },
    {
      "cell_type": "code",
      "source": [
        "class Book:\n",
        "  def __init__(self, title, author, year):\n",
        "    self.title = title\n",
        "    self.author = author\n",
        "    self.year = year\n",
        "    self.available = True\n",
        "\n",
        "  def borrow(self):\n",
        "    if self.available:\n",
        "      self.available = False\n",
        "      print(f\"El libro '{self.title}' ha sido prestado.\")\n",
        "    else:\n",
        "      print(f\"El libro '{self.title}' no está disponible.\")\n",
        "\n",
        "  def return_book(self):\n",
        "    self.available = True\n",
        "    print(f\"El libro '{self.title}' ha sido devuelto.\")\n",
        "\n",
        "class User:\n",
        "  def __init__(self, name, user_id):\n",
        "    self.name = name\n",
        "    self.user_id = user_id\n",
        "    self.books = []\n",
        "\n",
        "  def borrow_book(self, book):\n",
        "    if book.available:\n",
        "      book.borrow()\n",
        "      self.books.append(book)\n",
        "    else:\n",
        "      print(f\"El libro '{book.title}' no está disponible.\")\n",
        "\n",
        "  def return_book(self, book):\n",
        "    if book in self.books:\n",
        "      book.return_book()\n",
        "      self.books.remove(book)\n",
        "    else:\n",
        "      print(f\"El libro '{book.title}' no está en la lista de libros prestados.\")\n",
        "\n",
        "class Library:\n",
        "  def __init__(self):\n",
        "    self.books = []\n",
        "    self.users = []\n",
        "\n",
        "  def add_book(self, book):\n",
        "    self.books.append(book)\n",
        "    print(f\"El libro '{book.title}' ha sido agregado a la biblioteca.\")\n",
        "\n",
        "  def add_user(self, user):\n",
        "    self.users.append(user)\n",
        "    print(f\"El usuario '{user.name}' ha sido agregado a la biblioteca.\")\n",
        "\n",
        "  def display_books(self):\n",
        "    print(\"Lista de libros disponibles:\")\n",
        "    for book in self.books:\n",
        "      if book.available:\n",
        "        print(f\"Título: {book.title}, Autor: {book.author}, Año: {book.year}\")\n",
        "\n",
        "book1 = Book(\"Cien años de soledad\", \"Gabriel García Márquez\", 1967)\n",
        "book2 = Book(\"1984\", \"George Orwell\", 1949)\n",
        "book3 = Book(\"Don Quijote de la Mancha\", \"Miguel de Cervantes\", 1605)\n",
        "\n",
        "user1 = User(\"Juan Esteban Cardona\", 1)\n",
        "user2 = User(\"Maria Fernanda Castro\", 2)\n",
        "\n",
        "library = Library()\n",
        "library.add_book(book1)\n",
        "library.add_book(book2)\n",
        "library.add_book(book3)\n",
        "library.add_user(user1)\n",
        "library.add_user(user2)\n",
        "\n",
        "user1.borrow_book(book1)\n",
        "user1.borrow_book(book2)\n",
        "user2.borrow_book(book3)\n",
        "\n",
        "library.display_books()\n",
        "\n",
        "user1.return_book(book1)\n",
        "library.display_books()"
      ],
      "metadata": {
        "id": "SBgxLu3IaBn9",
        "colab": {
          "base_uri": "https://localhost:8080/"
        },
        "outputId": "dcaaef6e-d724-4bd8-8a13-d053cf8dfc0c"
      },
      "execution_count": null,
      "outputs": [
        {
          "output_type": "stream",
          "name": "stdout",
          "text": [
            "El libro 'Cien años de soledad' ha sido agregado a la biblioteca.\n",
            "El libro '1984' ha sido agregado a la biblioteca.\n",
            "El libro 'Don Quijote de la Mancha' ha sido agregado a la biblioteca.\n",
            "El usuario 'Juan Esteban Cardona' ha sido agregado a la biblioteca.\n",
            "El usuario 'Maria Fernanda Castro' ha sido agregado a la biblioteca.\n",
            "El libro 'Cien años de soledad' ha sido prestado.\n",
            "El libro '1984' ha sido prestado.\n",
            "El libro 'Don Quijote de la Mancha' ha sido prestado.\n",
            "Lista de libros disponibles:\n",
            "El libro 'Cien años de soledad' ha sido devuelto.\n",
            "Lista de libros disponibles:\n",
            "Título: Cien años de soledad, Autor: Gabriel García Márquez, Año: 1967\n"
          ]
        }
      ]
    },
    {
      "cell_type": "markdown",
      "source": [
        "Ejercicio de concesionario"
      ],
      "metadata": {
        "id": "2TB-ENXHuHOw"
      }
    },
    {
      "cell_type": "code",
      "source": [
        "# prompt: crear código en Python de un concesionario de vehículos con los atributos marca, modelo, precio; donde los usuarios puedan comprar, vender y además preguntar por los vehículos disponibles. Los usuarios se tienen que registrar con el concesionario y sus atributos deben ser nombre y user ID\n",
        "\n",
        "class Vehiculo:\n",
        "  def __init__(self, marca, modelo, precio):\n",
        "    self.marca = marca\n",
        "    self.modelo = modelo\n",
        "    self.precio = precio\n",
        "    self.disponible = True\n",
        "\n",
        "  def __str__(self):\n",
        "    return f\"Marca: {self.marca}, Modelo: {self.modelo}, Precio: ${self.precio:,.2f}, Disponible: {'Sí' if self.disponible else 'No'}\"\n",
        "\n",
        "class Usuario:\n",
        "  def __init__(self, nombre, user_id):\n",
        "    self.nombre = nombre\n",
        "    self.user_id = user_id\n",
        "\n",
        "class Concesionario:\n",
        "  def __init__(self):\n",
        "    self.vehiculos = []\n",
        "    self.usuarios = []\n",
        "\n",
        "  def registrar_usuario(self, nombre, user_id):\n",
        "    usuario = Usuario(nombre, user_id)\n",
        "    self.usuarios.append(usuario)\n",
        "    print(f\"Usuario {nombre} registrado con éxito.\")\n",
        "\n",
        "  def agregar_vehiculo(self, vehiculo):\n",
        "    self.vehiculos.append(vehiculo)\n",
        "    print(f\"Vehículo {vehiculo.marca} {vehiculo.modelo} agregado al inventario.\")\n",
        "\n",
        "  def mostrar_vehiculos_disponibles(self):\n",
        "    print(\"Vehículos disponibles:\")\n",
        "    for vehiculo in self.vehiculos:\n",
        "      if vehiculo.disponible:\n",
        "        print(vehiculo)\n",
        "\n",
        "  def vender_vehiculo(self, usuario, marca, modelo):\n",
        "    for vehiculo in self.vehiculos:\n",
        "      if vehiculo.marca == marca and vehiculo.modelo == modelo and vehiculo.disponible:\n",
        "        vehiculo.disponible = False\n",
        "        print(f\"Vehículo {marca} {modelo} vendido a {usuario.nombre}.\")\n",
        "        return\n",
        "    print(\"Vehículo no encontrado o no disponible.\")\n",
        "\n",
        "  def comprar_vehiculo(self, usuario, vehiculo):\n",
        "    if not vehiculo.disponible:\n",
        "      vehiculo.disponible = True\n",
        "      print(f\"Vehículo {vehiculo.marca} {vehiculo.modelo} comprado a {usuario.nombre}.\")\n",
        "    else:\n",
        "      print(\"El vehículo ya está disponible en el concesionario.\")\n",
        "\n",
        "# Ejemplo de uso\n",
        "concesionario = Concesionario()\n",
        "\n",
        "concesionario.registrar_usuario(\"Juan Esteban Cardona\", 1)\n",
        "concesionario.registrar_usuario(\"Maria Fernanda Castro\", 2)\n",
        "\n",
        "vehiculo1 = Vehiculo(\"Toyota\", \"Corolla\", 20000)\n",
        "vehiculo2 = Vehiculo(\"Honda\", \"Civic\", 22000)\n",
        "vehiculo3 = Vehiculo(\"Ford\", \"Focus\", 18000)\n",
        "\n",
        "concesionario.agregar_vehiculo(vehiculo1)\n",
        "concesionario.agregar_vehiculo(vehiculo2)\n",
        "concesionario.agregar_vehiculo(vehiculo3)\n",
        "\n",
        "concesionario.mostrar_vehiculos_disponibles()\n",
        "\n",
        "usuario1 = concesionario.usuarios[0]\n",
        "usuario2 = concesionario.usuarios[1]\n",
        "concesionario.vender_vehiculo(usuario1, \"Toyota\", \"Corolla\")\n",
        "concesionario.vender_vehiculo(usuario1, \"Honda\", \"Civic\")\n",
        "\n",
        "concesionario.mostrar_vehiculos_disponibles()\n",
        "\n",
        "concesionario.comprar_vehiculo(usuario1, vehiculo1)\n",
        "\n",
        "concesionario.mostrar_vehiculos_disponibles()\n",
        "concesionario.vender_vehiculo(usuario2, \"Honda\", \"Civic\")\n"
      ],
      "metadata": {
        "colab": {
          "base_uri": "https://localhost:8080/"
        },
        "id": "GrVllim6uJfC",
        "outputId": "9b23cc43-4aec-4b9f-d1ff-82080e640bf3"
      },
      "execution_count": null,
      "outputs": [
        {
          "output_type": "stream",
          "name": "stdout",
          "text": [
            "Usuario Juan Esteban Cardona registrado con éxito.\n",
            "Usuario Maria Fernanda Castro registrado con éxito.\n",
            "Vehículo Toyota Corolla agregado al inventario.\n",
            "Vehículo Honda Civic agregado al inventario.\n",
            "Vehículo Ford Focus agregado al inventario.\n",
            "Vehículos disponibles:\n",
            "Marca: Toyota, Modelo: Corolla, Precio: $20,000.00, Disponible: Sí\n",
            "Marca: Honda, Modelo: Civic, Precio: $22,000.00, Disponible: Sí\n",
            "Marca: Ford, Modelo: Focus, Precio: $18,000.00, Disponible: Sí\n",
            "Vehículo Toyota Corolla vendido a Juan Esteban Cardona.\n",
            "Vehículo Honda Civic vendido a Juan Esteban Cardona.\n",
            "Vehículos disponibles:\n",
            "Marca: Ford, Modelo: Focus, Precio: $18,000.00, Disponible: Sí\n",
            "Vehículo Toyota Corolla comprado a Juan Esteban Cardona.\n",
            "Vehículos disponibles:\n",
            "Marca: Toyota, Modelo: Corolla, Precio: $20,000.00, Disponible: Sí\n",
            "Marca: Ford, Modelo: Focus, Precio: $18,000.00, Disponible: Sí\n",
            "Vehículo no encontrado o no disponible.\n"
          ]
        }
      ]
    },
    {
      "cell_type": "markdown",
      "source": [
        "Clae 17: Herencia POO en Python"
      ],
      "metadata": {
        "id": "pK8YBwY3aDjg"
      }
    },
    {
      "cell_type": "code",
      "source": [
        "#Venta de vehículos tipo automóvil, bicicletas y camiones\n",
        "\n",
        "class Vehicle:\n",
        "  def __init__(self, brand, model, price):\n",
        "    self.brand = brand\n",
        "    self.model = model\n",
        "    self.price = price\n",
        "    self.available = True\n",
        "\n",
        "  def sell(self):\n",
        "    if self.available:\n",
        "      self.available = False\n",
        "      print(f\"El vehículo {self.brand} {self.model} ha sido vendido.\")\n",
        "    else:\n",
        "      print(f\"El vehículo {self.brand} {self.model} no está disponible.\")\n",
        "\n",
        "  def available(self):\n",
        "    return self.available\n",
        "\n",
        "  def price(self):\n",
        "    return self.price\n",
        "\n",
        "  def start_engine(self):\n",
        "    raise NotImplementedError (f\"Este método debe ser implementado por la subclase.\")\n",
        "\n",
        "  def stop_engine(self):\n",
        "    raise NotImplementedError (f\"Este método debe ser implementado por la subclase.\")\n",
        "\n",
        "class Car(Vehicle):\n",
        "  def start_engine(self):\n",
        "    if not self.available:\n",
        "      return f\"El motor del automóvil {self.brand} {self.model} ya está encendido.\"\n",
        "    else:\n",
        "      return f\"El motor del automóvil {self.brand} {self.model} no está disponible.\"\n",
        "\n",
        "  def stop_engine(self):\n",
        "    if self.available:\n",
        "      return f\"El motor del automóvil {self.brand} {self.model} se ha detenido.\"\n",
        "    else:\n",
        "      return f\"El motor del automóvil {self.brand} {self.model} no está disponible.\"\n",
        "\n",
        "class Bicycle(Vehicle):\n",
        "  def start_engine(self):\n",
        "    if not self.available:\n",
        "      return f\"La bicicleta {self.brand} {self.model} está en marcha.\"\n",
        "    else:\n",
        "      return f\"La bicicleta {self.brand} {self.model} no está disponible.\"\n",
        "\n",
        "  def stop_engine(self):\n",
        "    if self.available:\n",
        "      return f\"La bicicleta {self.brand} {self.model} se ha detenido.\"\n",
        "    else:\n",
        "      return f\"La bicicleta {self.brand} {self.model} no está disponible.\"\n",
        "\n",
        "class Truck(Vehicle):\n",
        "  def start_engine(self):\n",
        "    if not self.available:\n",
        "      return f\"El motor del camión {self.brand} {self.model} ya está encendido.\"\n",
        "    else:\n",
        "      return f\"El camión{self.brand} {self.model} no está disponible.\"\n",
        "\n",
        "  def stop_engine(self):\n",
        "    if self.available:\n",
        "      return f\"El motor del camión {self.brand} {self.model} se ha detenido.\"\n",
        "    else:\n",
        "      return f\"El camión {self.brand} {self.model} no está disponible.\""
      ],
      "metadata": {
        "id": "hdHmPZ3AaJUz"
      },
      "execution_count": null,
      "outputs": []
    },
    {
      "cell_type": "markdown",
      "source": [
        "Clae 18: Objetos heredados"
      ],
      "metadata": {
        "id": "I9yFP8S4aKlV"
      }
    },
    {
      "cell_type": "code",
      "source": [
        "#Pendiente"
      ],
      "metadata": {
        "id": "nZl2ByCRaQB9"
      },
      "execution_count": null,
      "outputs": []
    },
    {
      "cell_type": "markdown",
      "source": [
        "Clase 19: 4 pilares de POO"
      ],
      "metadata": {
        "id": "JaeyxEgzaUJT"
      }
    },
    {
      "cell_type": "code",
      "source": [
        "#Pendiente"
      ],
      "metadata": {
        "id": "w5xAET94acR_"
      },
      "execution_count": null,
      "outputs": []
    },
    {
      "cell_type": "markdown",
      "source": [
        "Clase 20: Guerra naval"
      ],
      "metadata": {
        "id": "d-WkuQBcadt5"
      }
    },
    {
      "cell_type": "code",
      "source": [
        "#Pendiente"
      ],
      "metadata": {
        "id": "K9lAnHtWagRD"
      },
      "execution_count": null,
      "outputs": []
    },
    {
      "cell_type": "markdown",
      "source": [
        "Clase 21 Comprehension Lists"
      ],
      "metadata": {
        "id": "nTqXmLc6COxi"
      }
    },
    {
      "cell_type": "code",
      "source": [
        "squares = [x**2 for x in range(1,6)]\n",
        "print(squares)\n",
        "\n",
        "celsius = [0,10,20,30,40,50]\n",
        "fahrenheit = [((9/5)*x + 32) for x in celsius]\n",
        "print(fahrenheit)\n",
        "\n",
        "doubled = [x for x in range(1,21) if x%2 == 0]\n",
        "print(doubled)\n",
        "\n",
        "matrix = [[1,2,3],\n",
        "         [4,5,6],\n",
        "         [7,8,9]]\n",
        "\n",
        "transposed = [[row[i] for row in matrix] for i in range(3)]\n",
        "print(transposed)"
      ],
      "metadata": {
        "colab": {
          "base_uri": "https://localhost:8080/"
        },
        "id": "1M5Ag17bC2Yx",
        "outputId": "d774b3d3-9d6c-47b6-93a4-fb972c20a786"
      },
      "execution_count": null,
      "outputs": [
        {
          "output_type": "stream",
          "name": "stdout",
          "text": [
            "[1, 4, 9, 16, 25]\n",
            "[32.0, 50.0, 68.0, 86.0, 104.0, 122.0]\n",
            "[2, 4, 6, 8, 10, 12, 14, 16, 18, 20]\n",
            "[[1, 4, 7], [2, 5, 8], [3, 6, 9]]\n"
          ]
        }
      ]
    },
    {
      "cell_type": "code",
      "source": [
        "!git config --global user.name \"juanescosit\"\n",
        "!git config --global user.email \"juan.com89@gmail.com\""
      ],
      "metadata": {
        "id": "N7pawerue7l5"
      },
      "execution_count": 4,
      "outputs": []
    }
  ]
}